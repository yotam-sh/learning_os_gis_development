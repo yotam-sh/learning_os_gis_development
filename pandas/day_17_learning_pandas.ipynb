{
 "cells": [
  {
   "cell_type": "markdown",
   "metadata": {},
   "source": [
    "### URL for problems: https://www.w3resource.com/python-exercises/pandas/index-data-series.php"
   ]
  },
  {
   "cell_type": "code",
   "execution_count": 1,
   "metadata": {},
   "outputs": [],
   "source": [
    "import pandas as pd\n",
    "import numpy as np"
   ]
  },
  {
   "cell_type": "markdown",
   "metadata": {},
   "source": [
    "##### 14. Write a Pandas program to change the order of index of a given series."
   ]
  },
  {
   "cell_type": "code",
   "execution_count": 40,
   "metadata": {},
   "outputs": [
    {
     "name": "stdout",
     "output_type": "stream",
     "text": [
      "1     92\n",
      "2     90\n",
      "3     92\n",
      "5     91\n",
      "6     90\n",
      "10    90\n",
      "Name: grades, dtype: int64\n",
      "\n",
      "   grades\n",
      "0      92\n",
      "1      92\n",
      "2      91\n",
      "3      90\n",
      "4      90\n",
      "5      90\n",
      "\n"
     ]
    }
   ],
   "source": [
    "s1 = pd.Series([81, 92, 90, 92, 78, 91, 90, 83, 80, 70, 90], name='grades')\n",
    "s2 = s1[s1 >= 90]\n",
    "print(f'{s2}\\n')\n",
    "\n",
    "# I thought the target was to reindex based on a new sort, like so:\n",
    "s2_sorted = s2.sort_values(ascending=False).reset_index().drop(['index'], axis=1)\n",
    "print(f'{s2_sorted}\\n')"
   ]
  },
  {
   "cell_type": "code",
   "execution_count": 52,
   "metadata": {},
   "outputs": [
    {
     "name": "stdout",
     "output_type": "stream",
     "text": [
      "B    92\n",
      "C    90\n",
      "D    92\n",
      "F    91\n",
      "G    90\n",
      "Name: grades, dtype: int64\n"
     ]
    }
   ],
   "source": [
    "# The solution shows a semi-manual reindexing using the Series.reindex() method:\n",
    "s1 = pd.Series([81, 92, 90, 92, 78, 91, 90, 83, 80, 70, 90], index=['A', 'B', 'C', 'D', 'E', 'F', 'G', 'H', 'I', 'J', 'K'], name='grades')\n",
    "s1_sorted = s1.sort_values(ascending=False).head()\n",
    "s1_reindexed = s1_sorted.reindex(index=['B', 'C', 'D', 'F', 'G'])\n",
    "print(s1_reindexed)"
   ]
  },
  {
   "cell_type": "markdown",
   "metadata": {},
   "source": [
    "##### 15. Write a Pandas program to create the mean and standard deviation of the data of a given Series."
   ]
  },
  {
   "cell_type": "code",
   "execution_count": 59,
   "metadata": {},
   "outputs": [
    {
     "name": "stdout",
     "output_type": "stream",
     "text": [
      "The standard deviation of \"grades\" is 7.264 and the mean is 85.18\n"
     ]
    }
   ],
   "source": [
    "s1 = pd.Series([81, 92, 90, 92, 78, 91, 90, 83, 80, 70, 90], name='grades')\n",
    "s1_sd = s1.std()\n",
    "s1_m = s1.mean()\n",
    "print(f'The standard deviation of \"grades\" is {s1_sd:.3f} and the mean is {s1_m:.2f}')"
   ]
  },
  {
   "cell_type": "markdown",
   "metadata": {},
   "source": [
    "##### 16. Write a Pandas program to get the items of a given series not present in another given series."
   ]
  },
  {
   "cell_type": "code",
   "execution_count": 71,
   "metadata": {},
   "outputs": [
    {
     "name": "stdout",
     "output_type": "stream",
     "text": [
      "3    7\n",
      "4    9\n",
      "dtype: int64\n"
     ]
    }
   ],
   "source": [
    "s1 = pd.Series([1, 2, 3, 4, 5])\n",
    "s2 = pd.Series([1, 3, 5, 7, 9])\n",
    "\n",
    "# In this filter, the '~' decorator negates the filter, making it show what is MISSING in s1 that is in s2\n",
    "print(s2[~s2.isin(s1)])"
   ]
  },
  {
   "cell_type": "markdown",
   "metadata": {},
   "source": [
    "##### 17. Write a Pandas program to get the items which are not common of two given series."
   ]
  },
  {
   "cell_type": "code",
   "execution_count": 90,
   "metadata": {},
   "outputs": [
    {
     "data": {
      "text/html": [
       "<div>\n",
       "<style scoped>\n",
       "    .dataframe tbody tr th:only-of-type {\n",
       "        vertical-align: middle;\n",
       "    }\n",
       "\n",
       "    .dataframe tbody tr th {\n",
       "        vertical-align: top;\n",
       "    }\n",
       "\n",
       "    .dataframe thead th {\n",
       "        text-align: right;\n",
       "    }\n",
       "</style>\n",
       "<table border=\"1\" class=\"dataframe\">\n",
       "  <thead>\n",
       "    <tr style=\"text-align: right;\">\n",
       "      <th></th>\n",
       "      <th>values_not_common</th>\n",
       "    </tr>\n",
       "  </thead>\n",
       "  <tbody>\n",
       "    <tr>\n",
       "      <th>0</th>\n",
       "      <td>2</td>\n",
       "    </tr>\n",
       "    <tr>\n",
       "      <th>1</th>\n",
       "      <td>4</td>\n",
       "    </tr>\n",
       "    <tr>\n",
       "      <th>2</th>\n",
       "      <td>7</td>\n",
       "    </tr>\n",
       "    <tr>\n",
       "      <th>3</th>\n",
       "      <td>9</td>\n",
       "    </tr>\n",
       "  </tbody>\n",
       "</table>\n",
       "</div>"
      ],
      "text/plain": [
       "   values_not_common\n",
       "0                  2\n",
       "1                  4\n",
       "2                  7\n",
       "3                  9"
      ]
     },
     "execution_count": 90,
     "metadata": {},
     "output_type": "execute_result"
    }
   ],
   "source": [
    "s1 = pd.Series([1, 2, 3, 4, 5])\n",
    "s2 = pd.Series([1, 3, 5, 7, 9])\n",
    "\n",
    "union = pd.Series(np.union1d(s1, s2))\n",
    "intersect = pd.Series(np.intersect1d(s1, s2))\n",
    "\n",
    "not_common = union[~union.isin(intersect)].reset_index().drop(['index'], axis=1).rename({0: 'values_not_common'}, axis=1)\n",
    "not_common"
   ]
  }
 ],
 "metadata": {
  "kernelspec": {
   "display_name": "Python 3.10.4 ('pandas_env')",
   "language": "python",
   "name": "python3"
  },
  "language_info": {
   "codemirror_mode": {
    "name": "ipython",
    "version": 3
   },
   "file_extension": ".py",
   "mimetype": "text/x-python",
   "name": "python",
   "nbconvert_exporter": "python",
   "pygments_lexer": "ipython3",
   "version": "3.10.4"
  },
  "orig_nbformat": 4,
  "vscode": {
   "interpreter": {
    "hash": "499e0d1732e52f42dfcd4a744589e44b8672379a264b4581f323f202e894b5b1"
   }
  }
 },
 "nbformat": 4,
 "nbformat_minor": 2
}
