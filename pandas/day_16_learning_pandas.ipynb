{
 "cells": [
  {
   "cell_type": "markdown",
   "metadata": {},
   "source": [
    "### URL for problems: https://www.w3resource.com/python-exercises/pandas/index-data-series.php"
   ]
  },
  {
   "cell_type": "code",
   "execution_count": 2,
   "metadata": {},
   "outputs": [],
   "source": [
    "import pandas as pd\n",
    "import numpy as np"
   ]
  },
  {
   "cell_type": "markdown",
   "metadata": {},
   "source": [
    "##### 1. Write a Pandas program to create and display a one-dimensional array-like object containing an array of data using Pandas module."
   ]
  },
  {
   "cell_type": "code",
   "execution_count": 3,
   "metadata": {},
   "outputs": [
    {
     "name": "stdout",
     "output_type": "stream",
     "text": [
      "   0  1\n",
      "0  5  2\n",
      "1  7  7\n",
      "2  7  7\n",
      "3  9  9\n",
      "4  2  2\n",
      "5  8  3\n",
      "6  0  4\n",
      "7  5  6\n",
      "8  5  5\n",
      "9  4  6\n"
     ]
    }
   ],
   "source": [
    "def one_d_pd():\n",
    "    np_series = np.array([[np.random.randint(0, 10) for i in range(2)] for j in range(10)])\n",
    "    df = pd.DataFrame(np_series)\n",
    "    \n",
    "    return df\n",
    "\n",
    "print(one_d_pd())"
   ]
  },
  {
   "cell_type": "markdown",
   "metadata": {},
   "source": [
    "##### 2. Write a Pandas program to convert a Panda module Series to Python list and it's type."
   ]
  },
  {
   "cell_type": "code",
   "execution_count": 4,
   "metadata": {},
   "outputs": [
    {
     "data": {
      "text/plain": [
       "list"
      ]
     },
     "execution_count": 4,
     "metadata": {},
     "output_type": "execute_result"
    }
   ],
   "source": [
    "series = pd.Series(data=np.array([np.random.randint(0,10) for i in range(10)]), dtype='Int8').tolist()\n",
    "type(series)"
   ]
  },
  {
   "cell_type": "markdown",
   "metadata": {},
   "source": [
    "##### 3. Write a Pandas program to add, subtract, multiple and divide two Pandas Series."
   ]
  },
  {
   "cell_type": "code",
   "execution_count": 5,
   "metadata": {},
   "outputs": [],
   "source": [
    "s1 = pd.Series(data=[np.random.randint(0, 10) for i in range(10)])\n",
    "s2 = pd.Series(data=[np.random.randint(0, 10) for i in range(10)])\n",
    "df = pd.DataFrame(data=[s1, s2]).T\n",
    "\n",
    "pd_add = pd.Series.add(s1, s2) # Add Series_1 to Series_2\n",
    "pd_sub = pd.Series.sub(s1, s2) # Subtract Series_2 from Series_1\n",
    "pd_mul = pd.Series.mul(s1, s2) # Multiply Series_1 by Series_2\n",
    "pd_div = pd.Series.div(s1, s2) # Divide Series_1 by Series_2"
   ]
  },
  {
   "cell_type": "markdown",
   "metadata": {},
   "source": [
    "##### 4. Write a Pandas program to compare the elements of the two Pandas Series."
   ]
  },
  {
   "cell_type": "code",
   "execution_count": 9,
   "metadata": {},
   "outputs": [
    {
     "name": "stdout",
     "output_type": "stream",
     "text": [
      "0    6\n",
      "1    6\n",
      "2    9\n",
      "3    4\n",
      "4    1\n",
      "dtype: int64\n",
      "0    2\n",
      "1    1\n",
      "2    9\n",
      "3    6\n",
      "4    7\n",
      "dtype: int64\n",
      "Comparison where both numbers are equal:\\n0    False\n",
      "1    False\n",
      "2     True\n",
      "3    False\n",
      "4    False\n",
      "dtype: bool\\nComparison where the numbers in Series 1 are bigger:\\n0     True\n",
      "1     True\n",
      "2    False\n",
      "3    False\n",
      "4    False\n",
      "dtype: bool\\nComparison where the numbers in Series 2 are bigger:\\n0    False\n",
      "1    False\n",
      "2    False\n",
      "3     True\n",
      "4     True\n",
      "dtype: bool\n"
     ]
    }
   ],
   "source": [
    "s1 = pd.Series(data=[np.random.randint(0, 10) for i in range(5)])\n",
    "s2 = pd.Series(data=[np.random.randint(0, 10) for i in range(5)])\n",
    "print(f'{s1}\\n{s2}')\n",
    "\n",
    "print(f'Comparison where both numbers are equal:\\\\n{s1 == s2}\\\\nComparison where the numbers in Series 1 are bigger:\\\\n{s1 > s2}\\\\nComparison where the numbers in Series 2 are bigger:\\\\n{s1 < s2}')"
   ]
  },
  {
   "cell_type": "markdown",
   "metadata": {},
   "source": [
    "##### 5. Write a Pandas program to convert a dictionary to a Pandas series."
   ]
  },
  {
   "cell_type": "code",
   "execution_count": 11,
   "metadata": {},
   "outputs": [
    {
     "data": {
      "text/plain": [
       "pandas.core.series.Series"
      ]
     },
     "execution_count": 11,
     "metadata": {},
     "output_type": "execute_result"
    }
   ],
   "source": [
    "dict = {'a': 100, 'b': 200, 'c': 300, 'd': 400, 'e': 800}\n",
    "pds = pd.Series(dict)\n",
    "type(pds)"
   ]
  },
  {
   "cell_type": "markdown",
   "metadata": {},
   "source": [
    "##### 6. Write a Pandas program to convert a NumPy array to a Pandas series."
   ]
  },
  {
   "cell_type": "code",
   "execution_count": 12,
   "metadata": {},
   "outputs": [
    {
     "data": {
      "text/plain": [
       "0    11\n",
       "1    46\n",
       "2     6\n",
       "3    20\n",
       "4    87\n",
       "5    33\n",
       "6    27\n",
       "7    89\n",
       "8    74\n",
       "9    12\n",
       "dtype: int32"
      ]
     },
     "execution_count": 12,
     "metadata": {},
     "output_type": "execute_result"
    }
   ],
   "source": [
    "arr = np.array([np.random.randint(1,100) for i in range(10)])\n",
    "to_series = pd.Series(arr)\n",
    "to_series"
   ]
  },
  {
   "cell_type": "markdown",
   "metadata": {},
   "source": [
    "##### 7. Write a Pandas program to change the data type of given a column or a Series."
   ]
  },
  {
   "cell_type": "code",
   "execution_count": 13,
   "metadata": {},
   "outputs": [
    {
     "name": "stdout",
     "output_type": "stream",
     "text": [
      "object\n",
      "float64\n"
     ]
    }
   ],
   "source": [
    "data_series = [100, 200, 'python', 300.12, 400]\n",
    "pds = pd.Series(data_series)\n",
    "print(pds.dtype)\n",
    "\n",
    "conv_pds = pd.to_numeric(pds, errors='coerce')\n",
    "print(conv_pds.dtype)"
   ]
  },
  {
   "cell_type": "markdown",
   "metadata": {},
   "source": [
    "##### 8. Write a Pandas program to convert the first column of a DataFrame as a Series."
   ]
  },
  {
   "cell_type": "code",
   "execution_count": 14,
   "metadata": {},
   "outputs": [
    {
     "name": "stdout",
     "output_type": "stream",
     "text": [
      "    a   b   c   d   e\n",
      "0  84  90  57  36  48\n",
      "1  99  34  22  97  39\n",
      "2  65  81  45  40  65\n",
      "3  22  94  41  63  18\n",
      "4   9  82  12  96   9\\n\n",
      "<class 'pandas.core.series.Series'>\n"
     ]
    }
   ],
   "source": [
    "arr = np.array([[np.random.randint(0, 100) for i in range(5)] for j in range(5)])\n",
    "df = pd.DataFrame(arr)\n",
    "df.rename({0: 'a', 1: 'b', 2: 'c', 3: 'd', 4: 'e'}, axis='columns', inplace=True)\n",
    "print(f'{df}\\\\n')\n",
    "\n",
    "convert_df = df['a']\n",
    "print(type(convert_df))"
   ]
  },
  {
   "cell_type": "markdown",
   "metadata": {},
   "source": [
    "##### 9. Write a Pandas program to convert a given Series to an array."
   ]
  },
  {
   "cell_type": "code",
   "execution_count": 16,
   "metadata": {},
   "outputs": [
    {
     "name": "stdout",
     "output_type": "stream",
     "text": [
      "[84 99 65 22  9] <class 'numpy.ndarray'>\n",
      "[84, 99, 65, 22, 9] <class 'list'>\n"
     ]
    }
   ],
   "source": [
    "# Using previous problem's converted Series 'convert_df'\n",
    "reconverted = np.array(convert_df)\n",
    "print(reconverted, type(reconverted))\n",
    "\n",
    "# Or alternatively:\n",
    "reconverted = convert_df.values.tolist()\n",
    "print(reconverted, type(reconverted))"
   ]
  },
  {
   "cell_type": "markdown",
   "metadata": {},
   "source": [
    "##### 10. Write a Pandas program to convert Series of lists to one Series."
   ]
  },
  {
   "cell_type": "code",
   "execution_count": 17,
   "metadata": {},
   "outputs": [
    {
     "data": {
      "text/plain": [
       "0    Magenta\n",
       "1       Cyan\n",
       "2        Red\n",
       "3     Yellow\n",
       "4      White\n",
       "5      Black\n",
       "6     Purple\n",
       "7      Green\n",
       "8       Blue\n",
       "dtype: object"
      ]
     },
     "execution_count": 17,
     "metadata": {},
     "output_type": "execute_result"
    }
   ],
   "source": [
    "list_a = ['Red', 'Green', 'White', 'Blue', 'Purple']\n",
    "list_b = ['Red', 'Black', 'Purple', 'Yellow']\n",
    "list_c = ['Magenta', 'Yellow', 'Green', 'Cyan', 'Purple']\n",
    "\n",
    "# This method of combining lists was thought up on the spot\\n\",\n",
    "agg_list = [i for list in [list_a, list_b, list_c] for i in list] # Double comprehension for-for\n",
    "\"\"\"print(f'{agg_list}\\\\n')\"\"\"\n",
    "\n",
    "# After searching online, this method is easier to use and implement\n",
    "agg_list = list_a + list_b + list_c\n",
    "\"\"\"print(f'{agg_list}\\\\n')\"\"\"\n",
    "\n",
    "# After more searching, this method uses the previous one, but with the use of set() it allows to filter duplicates\n",
    "agg_list = list(set(list_a + list_b + list_c))\n",
    "\"\"\"print(f'{agg_list}\\\\n')\"\"\"\n",
    "\n",
    "# The use of set() allows us to remove the following:\n",
    "merged = pd.Series(data=agg_list).drop_duplicates(keep='first')\n",
    "\n",
    "# Thus, leaving us with a simple QUICK answer to the question in place:\n",
    "merged = pd.Series(data=list(set(list_a + list_b + list_c)))\n",
    "merged"
   ]
  },
  {
   "cell_type": "markdown",
   "metadata": {},
   "source": [
    "##### 11. Write a Pandas program to sort a given Series."
   ]
  },
  {
   "cell_type": "code",
   "execution_count": null,
   "metadata": {},
   "outputs": [],
   "source": [
    "# Using previous problem's 'merged' series\n",
    "s = merged.sort_values()\n",
    "s"
   ]
  },
  {
   "cell_type": "markdown",
   "metadata": {},
   "source": [
    "##### 12. Write a Pandas program to add some data to an existing Series."
   ]
  },
  {
   "cell_type": "code",
   "execution_count": 18,
   "metadata": {},
   "outputs": [
    {
     "data": {
      "text/plain": [
       "0    Magenta\n",
       "1       Cyan\n",
       "2        Red\n",
       "3     Yellow\n",
       "4      White\n",
       "5      Black\n",
       "6     Purple\n",
       "7      Green\n",
       "8       Blue\n",
       "9      Brown\n",
       "dtype: object"
      ]
     },
     "execution_count": 18,
     "metadata": {},
     "output_type": "execute_result"
    }
   ],
   "source": [
    "# Using problem #10 'merged' series\n",
    "s = pd.concat([merged, pd.Series('Brown')]).reset_index(drop=True)\n",
    "s"
   ]
  },
  {
   "cell_type": "markdown",
   "metadata": {},
   "source": [
    "##### 13. Write a Pandas program to create a subset of a given series based on value and condition."
   ]
  },
  {
   "cell_type": "code",
   "execution_count": 34,
   "metadata": {},
   "outputs": [
    {
     "data": {
      "text/plain": [
       "1     92\n",
       "2     90\n",
       "3     92\n",
       "5     91\n",
       "6     90\n",
       "10    90\n",
       "Name: grades, dtype: int64"
      ]
     },
     "execution_count": 34,
     "metadata": {},
     "output_type": "execute_result"
    }
   ],
   "source": [
    "# We will use a Series describing my own grades last year\n",
    "s1 = pd.Series([81, 92, 90, 92, 78, 91, 90, 83, 80, 70, 90], name='grades')\n",
    "s2 = s1[s1 > 85]\n",
    "s2"
   ]
  }
 ],
 "metadata": {
  "kernelspec": {
   "display_name": "Python 3.10.4 ('pandas_env')",
   "language": "python",
   "name": "python3"
  },
  "language_info": {
   "codemirror_mode": {
    "name": "ipython",
    "version": 3
   },
   "file_extension": ".py",
   "mimetype": "text/x-python",
   "name": "python",
   "nbconvert_exporter": "python",
   "pygments_lexer": "ipython3",
   "version": "3.10.4"
  },
  "orig_nbformat": 4,
  "vscode": {
   "interpreter": {
    "hash": "499e0d1732e52f42dfcd4a744589e44b8672379a264b4581f323f202e894b5b1"
   }
  }
 },
 "nbformat": 4,
 "nbformat_minor": 2
}
