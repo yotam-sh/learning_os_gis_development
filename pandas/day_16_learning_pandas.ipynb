{
 "cells": [
  {
   "cell_type": "markdown",
   "metadata": {},
   "source": [
    "### URL for problems: https://www.w3resource.com/python-exercises/pandas/index-data-series.php"
   ]
  },
  {
   "cell_type": "code",
   "execution_count": 2,
   "metadata": {},
   "outputs": [],
   "source": [
    "import pandas as pd\n",
    "import numpy as np"
   ]
  },
  {
   "cell_type": "markdown",
   "metadata": {},
   "source": [
    "##### 1. Write a Pandas program to create and display a one-dimensional array-like object containing an array of data using Pandas module."
   ]
  },
  {
   "cell_type": "code",
   "execution_count": 17,
   "metadata": {},
   "outputs": [
    {
     "name": "stdout",
     "output_type": "stream",
     "text": [
      "   0  1\n",
      "0  1  1\n",
      "1  0  5\n",
      "2  0  1\n",
      "3  1  8\n",
      "4  6  0\n",
      "5  9  6\n",
      "6  0  3\n",
      "7  4  3\n",
      "8  5  8\n",
      "9  6  8\n"
     ]
    }
   ],
   "source": [
    "def one_d_pd():\n",
    "    np_series = np.array([[np.random.randint(0, 10) for i in range(2)] for j in range(10)])\n",
    "    df = pd.DataFrame(np_series)\n",
    "    \n",
    "    return df\n",
    "\n",
    "print(one_d_pd())"
   ]
  },
  {
   "cell_type": "markdown",
   "metadata": {},
   "source": [
    "##### 2. Write a Pandas program to convert a Panda module Series to Python list and it's type."
   ]
  },
  {
   "cell_type": "code",
   "execution_count": 23,
   "metadata": {},
   "outputs": [
    {
     "data": {
      "text/plain": [
       "list"
      ]
     },
     "execution_count": 23,
     "metadata": {},
     "output_type": "execute_result"
    }
   ],
   "source": [
    "series = pd.Series(data=np.array([np.random.randint(0,10) for i in range(10)]), dtype='Int8').tolist()\n",
    "type(series)"
   ]
  },
  {
   "cell_type": "markdown",
   "metadata": {},
   "source": [
    "##### 3. Write a Pandas program to add, subtract, multiple and divide two Pandas Series."
   ]
  },
  {
   "cell_type": "code",
   "execution_count": 39,
   "metadata": {},
   "outputs": [],
   "source": [
    "s1 = pd.Series(data=[np.random.randint(0, 10) for i in range(10)])\n",
    "s2 = pd.Series(data=[np.random.randint(0, 10) for i in range(10)])\n",
    "df = pd.DataFrame(data=[s1, s2]).T\n",
    "\n",
    "pd_add = pd.Series.add(s1, s2) # Add Series_1 to Series_2\n",
    "pd_sub = pd.Series.sub(s1, s2) # Subtract Series_2 from Series_1\n",
    "pd_mul = pd.Series.mul(s1, s2) # Multiply Series_1 by Series_2\n",
    "pd_div = pd.Series.div(s1, s2) # Divide Series_1 by Series_2"
   ]
  }
 ],
 "metadata": {
  "kernelspec": {
   "display_name": "Python 3.10.4 ('pandas_env')",
   "language": "python",
   "name": "python3"
  },
  "language_info": {
   "codemirror_mode": {
    "name": "ipython",
    "version": 3
   },
   "file_extension": ".py",
   "mimetype": "text/x-python",
   "name": "python",
   "nbconvert_exporter": "python",
   "pygments_lexer": "ipython3",
   "version": "3.10.4"
  },
  "orig_nbformat": 4,
  "vscode": {
   "interpreter": {
    "hash": "499e0d1732e52f42dfcd4a744589e44b8672379a264b4581f323f202e894b5b1"
   }
  }
 },
 "nbformat": 4,
 "nbformat_minor": 2
}
