{
 "cells": [
  {
   "cell_type": "markdown",
   "metadata": {},
   "source": [
    "### URL for problems: https://www.w3resource.com/python-exercises/pandas/index-data-series.php"
   ]
  },
  {
   "cell_type": "code",
   "execution_count": 2,
   "metadata": {},
   "outputs": [],
   "source": [
    "import pandas as pd\n",
    "import numpy as np"
   ]
  },
  {
   "cell_type": "markdown",
   "metadata": {},
   "source": [
    "##### 25. Write a Pandas program to calculate the number of characters in each word in a given series."
   ]
  },
  {
   "cell_type": "code",
   "execution_count": 12,
   "metadata": {},
   "outputs": [
    {
     "data": {
      "text/html": [
       "<div>\n",
       "<style scoped>\n",
       "    .dataframe tbody tr th:only-of-type {\n",
       "        vertical-align: middle;\n",
       "    }\n",
       "\n",
       "    .dataframe tbody tr th {\n",
       "        vertical-align: top;\n",
       "    }\n",
       "\n",
       "    .dataframe thead th {\n",
       "        text-align: right;\n",
       "    }\n",
       "</style>\n",
       "<table border=\"1\" class=\"dataframe\">\n",
       "  <thead>\n",
       "    <tr style=\"text-align: right;\">\n",
       "      <th></th>\n",
       "      <th>word</th>\n",
       "      <th>len(word)</th>\n",
       "    </tr>\n",
       "  </thead>\n",
       "  <tbody>\n",
       "    <tr>\n",
       "      <th>0</th>\n",
       "      <td>python</td>\n",
       "      <td>6</td>\n",
       "    </tr>\n",
       "    <tr>\n",
       "      <th>1</th>\n",
       "      <td>php</td>\n",
       "      <td>3</td>\n",
       "    </tr>\n",
       "    <tr>\n",
       "      <th>2</th>\n",
       "      <td>ruby</td>\n",
       "      <td>4</td>\n",
       "    </tr>\n",
       "    <tr>\n",
       "      <th>3</th>\n",
       "      <td>c#</td>\n",
       "      <td>2</td>\n",
       "    </tr>\n",
       "    <tr>\n",
       "      <th>4</th>\n",
       "      <td>fortran</td>\n",
       "      <td>7</td>\n",
       "    </tr>\n",
       "    <tr>\n",
       "      <th>5</th>\n",
       "      <td>html</td>\n",
       "      <td>4</td>\n",
       "    </tr>\n",
       "  </tbody>\n",
       "</table>\n",
       "</div>"
      ],
      "text/plain": [
       "      word len(word)\n",
       "0   python         6\n",
       "1      php         3\n",
       "2     ruby         4\n",
       "3       c#         2\n",
       "4  fortran         7\n",
       "5     html         4"
      ]
     },
     "execution_count": 12,
     "metadata": {},
     "output_type": "execute_result"
    }
   ],
   "source": [
    "s1 = pd.Series(['python', 'php', 'ruby', 'c#', 'fortran', 'html'])\n",
    "s2 = s1.map(lambda x: len(x))\n",
    "df = pd.DataFrame([s1, s2]).T.rename({0: 'word', 1: 'len(word)'}, axis=1)\n",
    "df"
   ]
  },
  {
   "cell_type": "markdown",
   "metadata": {},
   "source": [
    "##### 26. Write a Pandas program to compute difference of differences between consecutive numbers of a given series."
   ]
  },
  {
   "cell_type": "code",
   "execution_count": 27,
   "metadata": {},
   "outputs": [
    {
     "data": {
      "text/plain": [
       "0    NaN\n",
       "1    NaN\n",
       "2    0.0\n",
       "3   -1.0\n",
       "4    1.0\n",
       "5   -1.0\n",
       "6    3.0\n",
       "7   -2.0\n",
       "8    7.0\n",
       "dtype: float64"
      ]
     },
     "execution_count": 27,
     "metadata": {},
     "output_type": "execute_result"
    }
   ],
   "source": [
    "s1 = pd.Series([1, 3, 5, 6, 8, 9, 13, 15, 24])\n",
    "s2 = pd.Series(s1.diff().diff().tolist())\n",
    "s2"
   ]
  },
  {
   "cell_type": "markdown",
   "metadata": {},
   "source": [
    "##### 27. Write a Pandas program to convert a series of date strings to a timeseries."
   ]
  },
  {
   "cell_type": "code",
   "execution_count": 31,
   "metadata": {},
   "outputs": [
    {
     "data": {
      "text/plain": [
       "0   2015-01-01 00:00:00\n",
       "1   2016-10-02 00:00:00\n",
       "2   2018-03-07 00:00:00\n",
       "3   2014-05-06 00:00:00\n",
       "4   2016-04-12 00:00:00\n",
       "5   2019-04-06 11:20:00\n",
       "dtype: datetime64[ns]"
      ]
     },
     "execution_count": 31,
     "metadata": {},
     "output_type": "execute_result"
    }
   ],
   "source": [
    "dates = ['01 Jan 2015', '10-02-2016', '20180307', '2014/05/06', '2016-04-12', '2019-04-06T11:20']\n",
    "s1 = pd.to_datetime(pd.Series(dates))\n",
    "s1"
   ]
  },
  {
   "cell_type": "markdown",
   "metadata": {},
   "source": [
    "##### 28. Write a Pandas program to get the day of month, day of year, week number and day of week from a given series of date strings."
   ]
  },
  {
   "cell_type": "code",
   "execution_count": 45,
   "metadata": {},
   "outputs": [
    {
     "name": "stdout",
     "output_type": "stream",
     "text": [
      "[1, 2, 7, 6, 12, 6]\n",
      "[1, 276, 66, 126, 103, 96]\n",
      "[1, 39, 10, 19, 15, 14]\n",
      "['Thursday', 'Sunday', 'Wednesday', 'Tuesday', 'Tuesday', 'Saturday']\n"
     ]
    }
   ],
   "source": [
    "dates = ['01 Jan 2015', '10-02-2016', '20180307', '2014/05/06', '2016-04-12', '2019-04-06T11:20']\n",
    "s1 = pd.to_datetime(pd.Series(dates))\n",
    "day = s1.dt.day.tolist()\n",
    "day_of_year = s1.dt.day_of_year.tolist()\n",
    "week_num = s1.dt.isocalendar().week.tolist()\n",
    "day_name = s1.dt.day_name().tolist()\n",
    "print(f'{day}\\n{day_of_year}\\n{week_num}\\n{day_name}')\n"
   ]
  },
  {
   "cell_type": "markdown",
   "metadata": {},
   "source": [
    "##### 29. Write a Pandas program to convert year-month string to dates adding a specified day of the month."
   ]
  },
  {
   "cell_type": "code",
   "execution_count": 51,
   "metadata": {},
   "outputs": [
    {
     "data": {
      "text/plain": [
       "0   2015-01-25\n",
       "1   2016-02-25\n",
       "2   2017-03-25\n",
       "3   2018-04-25\n",
       "4   2019-05-25\n",
       "5   2020-06-25\n",
       "6   2021-07-25\n",
       "7   2022-08-25\n",
       "dtype: datetime64[ns]"
      ]
     },
     "execution_count": 51,
     "metadata": {},
     "output_type": "execute_result"
    }
   ],
   "source": [
    "year_month = ['January 2015', 'February 2016', 'March 2017', 'April 2018', 'May 2019', 'June 2020', 'July 2021', 'August 2022']\n",
    "s1 = pd.Series(year_month).map(lambda x: f'25 {x}')\n",
    "s2 = pd.to_datetime(s1)\n",
    "s2"
   ]
  },
  {
   "cell_type": "markdown",
   "metadata": {},
   "source": [
    "##### 30. Write a Pandas program to filter words from a given series that contain atleast two vowels."
   ]
  }
 ],
 "metadata": {
  "kernelspec": {
   "display_name": "Python 3.10.4 ('pandas_env')",
   "language": "python",
   "name": "python3"
  },
  "language_info": {
   "codemirror_mode": {
    "name": "ipython",
    "version": 3
   },
   "file_extension": ".py",
   "mimetype": "text/x-python",
   "name": "python",
   "nbconvert_exporter": "python",
   "pygments_lexer": "ipython3",
   "version": "3.10.4"
  },
  "orig_nbformat": 4,
  "vscode": {
   "interpreter": {
    "hash": "499e0d1732e52f42dfcd4a744589e44b8672379a264b4581f323f202e894b5b1"
   }
  }
 },
 "nbformat": 4,
 "nbformat_minor": 2
}
