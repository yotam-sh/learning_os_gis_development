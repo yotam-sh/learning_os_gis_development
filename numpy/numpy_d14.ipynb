{
 "cells": [
  {
   "cell_type": "markdown",
   "metadata": {},
   "source": [
    "### URL for problems: https://www.w3resource.com/python-exercises/numpy/basic/index.php"
   ]
  },
  {
   "cell_type": "code",
   "execution_count": 1,
   "metadata": {},
   "outputs": [],
   "source": [
    "import numpy as np"
   ]
  },
  {
   "cell_type": "markdown",
   "metadata": {},
   "source": [
    "##### 34. Write a NumPy program to add a vector to each row of a given matrix."
   ]
  },
  {
   "cell_type": "code",
   "execution_count": 19,
   "metadata": {},
   "outputs": [
    {
     "name": "stdout",
     "output_type": "stream",
     "text": [
      "Original matrix:\n",
      "[[3 5 3]\n",
      " [1 8 0]\n",
      " [2 2 4]]\n",
      "Vector to add to each row:\n",
      "[3 8 5]\n",
      "New matrix:\n",
      "[[ 6 13  8]\n",
      " [ 4 16  5]\n",
      " [ 5 10  9]]\n"
     ]
    }
   ],
   "source": [
    "a = np.array([[np.random.randint(0, 10) for i in range(3)] for i in range(3)])\n",
    "v = np.array([np.random.randint(0, 10) for i in range(3)])\n",
    "print(f'Original matrix:\\n{a}')\n",
    "print(f'Vector to add to each row:\\n{v}')\n",
    "c = np.empty_like(a)\n",
    "for i in range(3):\n",
    "    c[i, :] = a[i, :] + v\n",
    "print(f'New matrix:\\n{c}')"
   ]
  },
  {
   "cell_type": "markdown",
   "metadata": {},
   "source": [
    "##### 39. Write a NumPy program to convert a given list into an array, then again convert it into a list. Check initial list and final list are equal or not."
   ]
  },
  {
   "cell_type": "code",
   "execution_count": 24,
   "metadata": {},
   "outputs": [
    {
     "data": {
      "text/plain": [
       "True"
      ]
     },
     "execution_count": 24,
     "metadata": {},
     "output_type": "execute_result"
    }
   ],
   "source": [
    "a = [[x, x * np.random.randint(1, 5), (x + np.random.randint(1, 5)) / np.random.randint(1, 3)] for x in range(1, 4)]\n",
    "a_array = np.array(a)\n",
    "b = a_array.tolist()\n",
    "a == b"
   ]
  },
  {
   "cell_type": "markdown",
   "metadata": {},
   "source": [
    "##### 40. Write a NumPy program to compute the x and y coordinates for points on a sine curve and plot the points using matplotlib."
   ]
  },
  {
   "cell_type": "code",
   "execution_count": 25,
   "metadata": {},
   "outputs": [],
   "source": [
    "import matplotlib.pyplot as plt"
   ]
  },
  {
   "cell_type": "code",
   "execution_count": 26,
   "metadata": {},
   "outputs": [],
   "source": [
    "x = np.arange(0, 3 * np.pi, 0.2)\n",
    "y = np.sin(x)"
   ]
  },
  {
   "cell_type": "code",
   "execution_count": 27,
   "metadata": {},
   "outputs": [
    {
     "data": {
      "image/png": "[encoded data removed]",
      "text/plain": [
       "<Figure size 640x480 with 1 Axes>"
      ]
     },
     "metadata": {},
     "output_type": "display_data"
    }
   ],
   "source": [
    "plt.plot(x, y)\n",
    "plt.show()"
   ]
  },
  {
   "cell_type": "markdown",
   "metadata": {},
   "source": [
    "##### 41. Write a NumPy program to convert numpy dtypes to native python types."
   ]
  },
  {
   "cell_type": "code",
   "execution_count": 36,
   "metadata": {},
   "outputs": [
    {
     "name": "stdout",
     "output_type": "stream",
     "text": [
      "np.array item type: int32\n",
      "array.tolist() item type: <class 'int'>\n"
     ]
    }
   ],
   "source": [
    "# array.tolist() converts the whole array to Python native types automatically\n",
    "a = np.array([[np.random.randint(0, 10) for i in range(3)] for i in range(3)])\n",
    "print(f'np.array item type: {np.dtype(a[0, 0])}')\n",
    "b = a.tolist()\n",
    "print(f'array.tolist() item type: {type(b[0][0])}')\n"
   ]
  },
  {
   "cell_type": "code",
   "execution_count": 39,
   "metadata": {},
   "outputs": [
    {
     "name": "stdout",
     "output_type": "stream",
     "text": [
      "np.int32() type: int32\n",
      "object.item() type: <class 'int'>\n"
     ]
    }
   ],
   "source": [
    "# value.item() converts a single object to a Python native type\n",
    "x = np.int32(154)\n",
    "print(f'np.int32() type: {np.dtype(x)}')\n",
    "x_conv = x.item()\n",
    "print(f'object.item() type: {type(x_conv)}')"
   ]
  },
  {
   "cell_type": "markdown",
   "metadata": {},
   "source": [
    "##### 42. Write a NumPy program to add elements in a matrix. If an element in the matrix is 0, we will not add the element below this element."
   ]
  },
  {
   "cell_type": "code",
   "execution_count": 96,
   "metadata": {},
   "outputs": [
    {
     "name": "stdout",
     "output_type": "stream",
     "text": [
      "Original matrix: [[5, 2, 6], [5, 6, 0], [5, 5, 0]]\n",
      "Sum: 34\n"
     ]
    }
   ],
   "source": [
    "def matrix_sum(m):\n",
    "    to_array = np.array(m)\n",
    "    m_sum = 0\n",
    "    for row in range(len(to_array)):\n",
    "        for col in range(len(to_array[row])):\n",
    "            if to_array[row][col] == 0 and row < len(to_array) - 1:\n",
    "                to_array[row + 1][col] = 0\n",
    "            m_sum += to_array[row][col]\n",
    "    return m_sum\n",
    "\n",
    "m = [[np.random.randint(0, 10) for i in range(3)] for i in range(3)]\n",
    "print(f'Original matrix: {m}')\n",
    "print(f'Sum: {matrix_sum(m)}')"
   ]
  },
  {
   "cell_type": "markdown",
   "metadata": {},
   "source": [
    "##### 43. Write a NumPy program to find the missing data in a given array."
   ]
  },
  {
   "cell_type": "code",
   "execution_count": 104,
   "metadata": {},
   "outputs": [
    {
     "name": "stdout",
     "output_type": "stream",
     "text": [
      "[ True False False False False  True  True False False  True]\n"
     ]
    }
   ],
   "source": [
    "a = np.array([np.nan, 1, 4, 3, 7, np.nan, np.nan, 41, 3, np.nan])\n",
    "print(np.isnan(a))"
   ]
  },
  {
   "cell_type": "markdown",
   "metadata": {},
   "source": [
    "##### 44. Write a NumPy program to check whether two arrays are equal (element wise) or not."
   ]
  },
  {
   "cell_type": "code",
   "execution_count": 109,
   "metadata": {},
   "outputs": [
    {
     "data": {
      "text/plain": [
       "True"
      ]
     },
     "execution_count": 109,
     "metadata": {},
     "output_type": "execute_result"
    }
   ],
   "source": [
    "a = np.array([1, 2, 3])\n",
    "b = np.array([1, 2, 3])\n",
    "bool(all(a == b))"
   ]
  },
  {
   "cell_type": "markdown",
   "metadata": {},
   "source": [
    "##### 45. Write a NumPy program to create one-dimensional array of single, two and three digit numbers."
   ]
  },
  {
   "cell_type": "code",
   "execution_count": 114,
   "metadata": {},
   "outputs": [],
   "source": [
    "a = np.array([x for x in range(0, 10)])\n",
    "b = np.array([x for x in range(10, 100)])\n",
    "c = np.array([x for x in range(100, 1000)])"
   ]
  },
  {
   "cell_type": "markdown",
   "metadata": {},
   "source": [
    "##### 46. Write a NumPy program to create a two-dimensional array of specified format."
   ]
  },
  {
   "cell_type": "code",
   "execution_count": 136,
   "metadata": {},
   "outputs": [
    {
     "name": "stdout",
     "output_type": "stream",
     "text": [
      "[[ -1  -2  -3  -4  -5  -6  -7  -8  -9 -10]\n",
      " [-11 -12 -13 -14 -15 -16 -17 -18 -19 -20]\n",
      " [-21 -22 -23 -24 -25 -26 -27 -28 -29 -30]\n",
      " [-31 -32 -33 -34 -35 -36 -37 -38 -39 -40]\n",
      " [-41 -42 -43 -44 -45 -46 -47 -48 -49 -50]\n",
      " [-51 -52 -53 -54 -55 -56 -57 -58 -59 -60]\n",
      " [-61 -62 -63 -64 -65 -66 -67 -68 -69 -70]\n",
      " [-71 -72 -73 -74 -75 -76 -77 -78 -79 -80]\n",
      " [-81 -82 -83 -84 -85 -86 -87 -88 -89 -90]]\n"
     ]
    }
   ],
   "source": [
    "print(np.array([-x for x in range(1, 91)]).reshape(9, -1))\n"
   ]
  },
  {
   "cell_type": "markdown",
   "metadata": {},
   "source": [
    "##### 47. Write a NumPy program to create a one dimensional array of forty pseudo-randomly generated values. Select random numbers from a uniform distribution between 0 and 1."
   ]
  },
  {
   "cell_type": "code",
   "execution_count": 181,
   "metadata": {},
   "outputs": [
    {
     "data": {
      "text/plain": [
       "array([[0.77132064, 0.02075195, 0.63364823, 0.74880388, 0.49850701,\n",
       "        0.22479665, 0.19806286, 0.76053071, 0.16911084, 0.08833981,\n",
       "        0.68535982, 0.95339335, 0.00394827, 0.51219226, 0.81262096,\n",
       "        0.61252607, 0.72175532, 0.29187607, 0.91777412, 0.71457578,\n",
       "        0.54254437, 0.14217005, 0.37334076, 0.67413362, 0.44183317,\n",
       "        0.43401399, 0.61776698, 0.51313824, 0.65039718, 0.60103895,\n",
       "        0.8052232 , 0.52164715, 0.90864888, 0.31923609, 0.09045935,\n",
       "        0.30070006, 0.11398436, 0.82868133, 0.04689632, 0.62628715]])"
      ]
     },
     "execution_count": 181,
     "metadata": {},
     "output_type": "execute_result"
    }
   ],
   "source": [
    "sd = np.random.seed(10)\n",
    "a = np.array([np.random.rand(40)])\n",
    "a"
   ]
  },
  {
   "cell_type": "markdown",
   "metadata": {},
   "source": [
    "##### 48. Write a NumPy program to create a two-dimensional array with shape (8,5) of random numbers. Select random numbers from a normal distribution (200,7)."
   ]
  },
  {
   "cell_type": "code",
   "execution_count": 201,
   "metadata": {},
   "outputs": [
    {
     "data": {
      "text/plain": [
       "array([[[199.10674, 198.28957, 193.65353, 201.7126 , 202.29482],\n",
       "        [200.72998, 200.1725 , 199.92836, 195.5368 , 199.87193],\n",
       "        [197.2203 , 198.14163, 197.3265 , 200.1643 , 205.07059],\n",
       "        [199.07239, 202.62091, 200.86981, 203.01967, 202.28821],\n",
       "        [196.48178, 202.12218, 201.04863, 197.79684, 200.78375],\n",
       "        [197.26836, 200.37473, 202.21556, 200.45787, 197.69083],\n",
       "        [199.43085, 200.66599, 201.56532, 200.38354, 199.30075],\n",
       "        [198.93993, 200.92146, 203.1267 , 201.343  , 198.76947]]],\n",
       "      dtype=float32)"
      ]
     },
     "execution_count": 201,
     "metadata": {},
     "output_type": "execute_result"
    }
   ],
   "source": [
    "cbrt = np.cbrt(7)\n",
    "nd1 = 200\n",
    "a = np.array([cbrt * np.random.randn(8, 5) + nd1], dtype='float32')\n",
    "a"
   ]
  },
  {
   "cell_type": "markdown",
   "metadata": {},
   "source": [
    "##### 50. Write a NumPy program to create a 4x4 array with random values, now create a new array from the said array swapping first and last rows."
   ]
  },
  {
   "cell_type": "code",
   "execution_count": 229,
   "metadata": {},
   "outputs": [
    {
     "name": "stdout",
     "output_type": "stream",
     "text": [
      "[[ 1  2  3  4  5]\n",
      " [ 6  7  8  9 10]\n",
      " [11 12 13 14 15]]\n",
      "[[11 12 13 14 15]\n",
      " [ 6  7  8  9 10]\n",
      " [ 1  2  3  4  5]]\n"
     ]
    }
   ],
   "source": [
    "a = np.arange(1, 16).reshape(3, 5)\n",
    "print(a)\n",
    "a[[0,-1],:] = a[[-1,0],:]\n",
    "print(a)"
   ]
  },
  {
   "cell_type": "markdown",
   "metadata": {},
   "source": [
    "##### 51. Write a NumPy program to create a new array of given shape (5,6) and type, filled with zeros."
   ]
  },
  {
   "cell_type": "code",
   "execution_count": 234,
   "metadata": {},
   "outputs": [
    {
     "data": {
      "text/plain": [
       "array([[3, 0, 3, 0, 3, 0],\n",
       "       [7, 0, 7, 0, 7, 0],\n",
       "       [3, 0, 3, 0, 3, 0],\n",
       "       [7, 0, 7, 0, 7, 0],\n",
       "       [3, 0, 3, 0, 3, 0]])"
      ]
     },
     "execution_count": 234,
     "metadata": {},
     "output_type": "execute_result"
    }
   ],
   "source": [
    "a = np.zeros([5, 6], dtype='int32')\n",
    "a[::2, ::2] = 3\n",
    "a[1::2, ::2] = 7\n",
    "a"
   ]
  },
  {
   "cell_type": "markdown",
   "metadata": {},
   "source": [
    "##### 52. Write a NumPy program to sort a given array by row and column in ascending order."
   ]
  },
  {
   "cell_type": "code",
   "execution_count": 248,
   "metadata": {},
   "outputs": [
    {
     "name": "stdout",
     "output_type": "stream",
     "text": [
      "Sort by row:\n",
      "[[0.31591949 0.0587981  0.01464051 0.50745812 0.01325745]\n",
      " [0.33745807 0.2567578  0.2545356  0.76355862 0.18758826]\n",
      " [0.35501193 0.47910156 0.30815515 0.92027424 0.35895838]\n",
      " [0.88906544 0.71760016 0.90273051 0.92172634 0.75366165]]\n",
      "Sort by column:\n",
      "[[0.2545356  0.2567578  0.31591949 0.75366165 0.92172634]\n",
      " [0.18758826 0.35501193 0.47910156 0.76355862 0.90273051]\n",
      " [0.01325745 0.0587981  0.30815515 0.33745807 0.92027424]\n",
      " [0.01464051 0.35895838 0.50745812 0.71760016 0.88906544]]\n"
     ]
    }
   ],
   "source": [
    "a = [[0.31591949, 0.2567578 , 0.2545356 , 0.92172634, 0.75366165],\n",
    "       [0.35501193, 0.47910156, 0.90273051, 0.76355862, 0.18758826],\n",
    "       [0.33745807, 0.0587981 , 0.30815515, 0.92027424, 0.01325745],\n",
    "       [0.88906544, 0.71760016, 0.01464051, 0.50745812, 0.35895838]]\n",
    "print(f'Sort by row:\\n{np.sort(a, axis=0)}')\n",
    "print(f'Sort by column:\\n{np.sort(a, axis=1)}')"
   ]
  },
  {
   "cell_type": "markdown",
   "metadata": {},
   "source": [
    "##### 53. Write a NumPy program to extract all numbers from a given array which are less and greater than a specified number."
   ]
  },
  {
   "cell_type": "code",
   "execution_count": 255,
   "metadata": {},
   "outputs": [
    {
     "name": "stdout",
     "output_type": "stream",
     "text": [
      "Array:\n",
      "[[28 87  0 13 91 52 20 13]\n",
      " [47 18 52 92 50 94  5 98]\n",
      " [41 82 40 39 31 34 33 47]\n",
      " [85  3 55 41 11 36 48 27]\n",
      " [78 59 42 50 22 28  5 26]]\n",
      "Extracted numbers:\n",
      "[87, 91, 52, 47, 52, 92, 50, 94, 98, 41, 82, 47, 85, 55, 41, 48, 78, 59, 42, 50]\n"
     ]
    }
   ],
   "source": [
    "a = np.array([np.random.randint(0, 100, 40)]).reshape([5, 8])\n",
    "print(f'Array:\\n{a}')\n",
    "extracted = [x.item() for x in np.nditer(a) if x > 40]\n",
    "print(f'Extracted numbers:\\n{extracted}')"
   ]
  },
  {
   "cell_type": "markdown",
   "metadata": {},
   "source": [
    "##### 54. Write a NumPy program to replace all numbers in a given array which is equal, less and greater to a given number."
   ]
  },
  {
   "cell_type": "code",
   "execution_count": 259,
   "metadata": {},
   "outputs": [
    {
     "name": "stdout",
     "output_type": "stream",
     "text": [
      "Original matrix:\n",
      "[[47 12 12 71 68 40 54 75]\n",
      " [ 7 73 97 68 79 89  8 69]\n",
      " [22 56 13 15 91 60 78 38]\n",
      " [86 84 58 33  1 62 90 45]\n",
      " [92 52 54 72 57 39 63 60]]\n",
      "\n",
      "[[47 12 12 71 68 40 54 75]\n",
      " [ 7 73 97 68 79 89  8 69]\n",
      " [22 56 13 15 91 60 78 38]\n",
      " [86 84 58 33  1 62 90 69]\n",
      " [92 52 54 72 57 39 63 60]]\n",
      "\n",
      "[[69 12 12 69 69 40 69 69]\n",
      " [ 7 69 69 69 69 69  8 69]\n",
      " [22 69 13 15 69 69 69 38]\n",
      " [69 69 69 33  1 69 69 45]\n",
      " [69 69 69 69 69 39 69 69]]\n",
      "\n",
      "[[47 69 69 71 68 69 54 75]\n",
      " [69 73 97 68 79 89 69 69]\n",
      " [69 56 69 69 91 60 78 69]\n",
      " [86 84 58 69 69 62 90 45]\n",
      " [92 52 54 72 57 69 63 60]]\n"
     ]
    }
   ],
   "source": [
    "a = np.array([np.random.randint(0, 100, 40)]).reshape([5, 8])\n",
    "# Replace all values in the array which are equal, greater or smaller than 45 with 69\n",
    "query = [a == 45, a > 45, a < 45]\n",
    "replacement = 69\n",
    "print(f'Original matrix:\\n{a}')\n",
    "for i in query:\n",
    "    print(f'\\n{np.where(i, replacement, a)}')"
   ]
  }
 ],
 "metadata": {
  "kernelspec": {
   "display_name": "Python 3.10.4 ('pandas_env')",
   "language": "python",
   "name": "python3"
  },
  "language_info": {
   "codemirror_mode": {
    "name": "ipython",
    "version": 3
   },
   "file_extension": ".py",
   "mimetype": "text/x-python",
   "name": "python",
   "nbconvert_exporter": "python",
   "pygments_lexer": "ipython3",
   "version": "3.10.4"
  },
  "orig_nbformat": 4,
  "vscode": {
   "interpreter": {
    "hash": "499e0d1732e52f42dfcd4a744589e44b8672379a264b4581f323f202e894b5b1"
   }
  }
 },
 "nbformat": 4,
 "nbformat_minor": 2
}
