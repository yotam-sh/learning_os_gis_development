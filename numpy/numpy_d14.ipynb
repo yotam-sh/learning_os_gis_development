{
 "cells": [
  {
   "cell_type": "markdown",
   "metadata": {},
   "source": [
    "### URL for problems: https://www.w3resource.com/python-exercises/numpy/basic/index.php"
   ]
  },
  {
   "cell_type": "code",
   "execution_count": 1,
   "metadata": {},
   "outputs": [],
   "source": [
    "import numpy as np"
   ]
  },
  {
   "cell_type": "markdown",
   "metadata": {},
   "source": [
    "##### 34. Write a NumPy program to add a vector to each row of a given matrix."
   ]
  },
  {
   "cell_type": "code",
   "execution_count": 19,
   "metadata": {},
   "outputs": [
    {
     "name": "stdout",
     "output_type": "stream",
     "text": [
      "Original matrix:\n",
      "[[3 5 3]\n",
      " [1 8 0]\n",
      " [2 2 4]]\n",
      "Vector to add to each row:\n",
      "[3 8 5]\n",
      "New matrix:\n",
      "[[ 6 13  8]\n",
      " [ 4 16  5]\n",
      " [ 5 10  9]]\n"
     ]
    }
   ],
   "source": [
    "a = np.array([[np.random.randint(0, 10) for i in range(3)] for i in range(3)])\n",
    "v = np.array([np.random.randint(0, 10) for i in range(3)])\n",
    "print(f'Original matrix:\\n{a}')\n",
    "print(f'Vector to add to each row:\\n{v}')\n",
    "c = np.empty_like(a)\n",
    "for i in range(3):\n",
    "    c[i, :] = a[i, :] + v\n",
    "print(f'New matrix:\\n{c}')"
   ]
  },
  {
   "cell_type": "markdown",
   "metadata": {},
   "source": [
    "##### 39. Write a NumPy program to convert a given list into an array, then again convert it into a list. Check initial list and final list are equal or not."
   ]
  },
  {
   "cell_type": "code",
   "execution_count": 24,
   "metadata": {},
   "outputs": [
    {
     "data": {
      "text/plain": [
       "True"
      ]
     },
     "execution_count": 24,
     "metadata": {},
     "output_type": "execute_result"
    }
   ],
   "source": [
    "a = [[x, x * np.random.randint(1, 5), (x + np.random.randint(1, 5)) / np.random.randint(1, 3)] for x in range(1, 4)]\n",
    "a_array = np.array(a)\n",
    "b = a_array.tolist()\n",
    "a == b"
   ]
  }
 ],
 "metadata": {
  "kernelspec": {
   "display_name": "Python 3.10.4 ('pandas_env')",
   "language": "python",
   "name": "python3"
  },
  "language_info": {
   "codemirror_mode": {
    "name": "ipython",
    "version": 3
   },
   "file_extension": ".py",
   "mimetype": "text/x-python",
   "name": "python",
   "nbconvert_exporter": "python",
   "pygments_lexer": "ipython3",
   "version": "3.10.4"
  },
  "orig_nbformat": 4,
  "vscode": {
   "interpreter": {
    "hash": "499e0d1732e52f42dfcd4a744589e44b8672379a264b4581f323f202e894b5b1"
   }
  }
 },
 "nbformat": 4,
 "nbformat_minor": 2
}
